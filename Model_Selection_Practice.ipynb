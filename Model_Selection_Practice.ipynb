{
  "nbformat": 4,
  "nbformat_minor": 0,
  "metadata": {
    "colab": {
      "provenance": [],
      "include_colab_link": true
    },
    "kernelspec": {
      "name": "python3",
      "display_name": "Python 3"
    },
    "language_info": {
      "name": "python"
    }
  },
  "cells": [
    {
      "cell_type": "markdown",
      "metadata": {
        "id": "view-in-github",
        "colab_type": "text"
      },
      "source": [
        "<a href=\"https://colab.research.google.com/github/kienprojects/Machine-Learning-course/blob/main/Model_Selection_Practice.ipynb\" target=\"_parent\"><img src=\"https://colab.research.google.com/assets/colab-badge.svg\" alt=\"Open In Colab\"/></a>"
      ]
    },
    {
      "cell_type": "markdown",
      "source": [
        "# **Model Selection Practice**\n",
        "\n",
        "Aug 22, 2024\n",
        "\n",
        "\n",
        "---\n",
        "\n"
      ],
      "metadata": {
        "id": "KEIOYye7ZiAJ"
      }
    },
    {
      "cell_type": "markdown",
      "source": [
        "## **Bài toán**\n",
        "\n",
        "\n",
        "*   Cần đánh giá hiệu quả của một mô hình phân loại?\n",
        "*   So sánh hiệu quả của 2 mô hình khác nhau?\n",
        "\n",
        "Nhưng ta chỉ có một tập dữ liệu đã thu thập được. Để trả lời hai câu hỏi trên thì cần thực hiện bước \"Lựa chọn tham số\" của mô hình đã chọn.\n",
        "\n",
        "Bài này sẽ hướng dẫn cách thực hiện từng bước chi tiết, từ <b>lựa chọn tham số</b> (sử dụng Cross validation), cho đến <b>đánh giá</b> (sử dụng Holdout) và <b>so sánh</b> hai mô hình khác nhau.\n",
        "\n",
        "====== Nguồn http://users.soict.hust.edu.vn/khoattq/ml-dm-course/ ======\n",
        "\n"
      ],
      "metadata": {
        "id": "6m7JXMR5fy2q"
      }
    },
    {
      "cell_type": "markdown",
      "source": [
        "***Mục tiêu:***\n",
        "\n",
        "\n",
        "*   Nắm được các bước đánh giá và so sánh hai mô hình khác nhau (*ví dụ: SVM và Random Forest*).\n",
        "*   Ứng dụng vào giải quyết bài toán thực tế (*ví dụ: phân loại văn bản*).\n",
        "*   Sử dụng độ đo Accuracy để đánh giá chất lượng mô hình.\n",
        "\n",
        "***Dữ liệu:***\n",
        "*   Tập các văn bản và nhãn tương ứng của từng văn bản trong một khoảng thời gian.\n",
        "*   Tập các nhãn - 10 nhãn văn bản:\n",
        "    \n",
        "> Giải trí, Khoa học - Công nghệ, Kinh tế, Pháp luật, Sức khỏe, Thể thao, Thời sự, Tin khác, Độc giả, Đời sống - Xã hội.\n",
        "\n",
        "***Ví dụ văn bản nhãn thể thao:***\n",
        "    \n",
        "> \"Dân_trí Real Madrid đã dẫn trước trong cả trận đấu , nhưng họ vẫn phải chấp_nhận bị Dortmund cầm hòa 2-2 ở Bernabeu . Real Madrid chấp_nhận đứng thứ_hai ở bảng F Champions League ...\"\n",
        "\n",
        "***Bài toán: Phân loại***\n",
        "\n",
        "\n",
        "*   Input: n vector mã hóa của các văn bản - ma trận $X = [x_1, x_2, ... x_n]$\n",
        "*   Output: nhãn $y$ là 1 trong 10 nhãn trên\n"
      ],
      "metadata": {
        "id": "c5Py2FTWgmai"
      }
    },
    {
      "cell_type": "code",
      "execution_count": null,
      "metadata": {
        "id": "vRDk_B4gTPCk"
      },
      "outputs": [],
      "source": []
    },
    {
      "cell_type": "code",
      "source": [
        "from google.colab import drive\n",
        "drive.mount('/content/drive')\n",
        "%cd /content/drive/MyDrive/VINBIGDATA/MachineLearning/00_Assignment/07_Model-selection/data"
      ],
      "metadata": {
        "id": "PlYwfitKuTQK",
        "outputId": "c7779a4a-f6fe-4273-87de-46baca56e899",
        "colab": {
          "base_uri": "https://localhost:8080/"
        }
      },
      "execution_count": 1,
      "outputs": [
        {
          "output_type": "stream",
          "name": "stdout",
          "text": [
            "Mounted at /content/drive\n",
            "/content/drive/.shortcut-targets-by-id/1TvCG3X3dcbtWR5iQlJl5HnUNGb5lsmIA/00_Assignment/07_Model-selection/data\n"
          ]
        }
      ]
    },
    {
      "cell_type": "code",
      "source": [
        "!os.makedirs(\"Model_selection/images\",exist_ok=True)  # thư mục lưu các hình ảnh kết quả trong quá trình huấn luyện và đánh giá"
      ],
      "metadata": {
        "id": "Hsya4XhThz04",
        "outputId": "f2ede9e8-9200-4570-bcd5-b5abc7d22c82",
        "colab": {
          "base_uri": "https://localhost:8080/"
        }
      },
      "execution_count": 2,
      "outputs": [
        {
          "output_type": "stream",
          "name": "stdout",
          "text": [
            "/bin/bash: -c: line 1: syntax error near unexpected token `\"Model_selection/images\",exist_ok=True'\n",
            "/bin/bash: -c: line 1: `os.makedirs(\"Model_selection/images\",exist_ok=True)  # thư mục lưu các hình ảnh kết quả trong quá trình huấn luyện và đánh giá'\n"
          ]
        }
      ]
    },
    {
      "cell_type": "markdown",
      "source": [
        "## **Import các thư viện cần thiết, cài thêm một số thư viện chưa sẵn có**"
      ],
      "metadata": {
        "id": "jZwKtm5LhKNc"
      }
    },
    {
      "cell_type": "code",
      "source": [
        "!pip install pyvi"
      ],
      "metadata": {
        "id": "6h9GpgvthUq6",
        "outputId": "a215f528-b30c-475a-ee7f-b3e4ba9365a0",
        "colab": {
          "base_uri": "https://localhost:8080/"
        }
      },
      "execution_count": 3,
      "outputs": [
        {
          "output_type": "stream",
          "name": "stdout",
          "text": [
            "Collecting pyvi\n",
            "  Downloading pyvi-0.1.1-py2.py3-none-any.whl.metadata (2.5 kB)\n",
            "Requirement already satisfied: scikit-learn in /usr/local/lib/python3.10/dist-packages (from pyvi) (1.3.2)\n",
            "Collecting sklearn-crfsuite (from pyvi)\n",
            "  Downloading sklearn_crfsuite-0.5.0-py2.py3-none-any.whl.metadata (4.9 kB)\n",
            "Requirement already satisfied: numpy<2.0,>=1.17.3 in /usr/local/lib/python3.10/dist-packages (from scikit-learn->pyvi) (1.26.4)\n",
            "Requirement already satisfied: scipy>=1.5.0 in /usr/local/lib/python3.10/dist-packages (from scikit-learn->pyvi) (1.13.1)\n",
            "Requirement already satisfied: joblib>=1.1.1 in /usr/local/lib/python3.10/dist-packages (from scikit-learn->pyvi) (1.4.2)\n",
            "Requirement already satisfied: threadpoolctl>=2.0.0 in /usr/local/lib/python3.10/dist-packages (from scikit-learn->pyvi) (3.5.0)\n",
            "Collecting python-crfsuite>=0.9.7 (from sklearn-crfsuite->pyvi)\n",
            "  Downloading python_crfsuite-0.9.10-cp310-cp310-manylinux_2_17_x86_64.manylinux2014_x86_64.whl.metadata (4.2 kB)\n",
            "Requirement already satisfied: tabulate>=0.4.2 in /usr/local/lib/python3.10/dist-packages (from sklearn-crfsuite->pyvi) (0.9.0)\n",
            "Requirement already satisfied: tqdm>=2.0 in /usr/local/lib/python3.10/dist-packages (from sklearn-crfsuite->pyvi) (4.66.5)\n",
            "Downloading pyvi-0.1.1-py2.py3-none-any.whl (8.5 MB)\n",
            "\u001b[2K   \u001b[90m━━━━━━━━━━━━━━━━━━━━━━━━━━━━━━━━━━━━━━━━\u001b[0m \u001b[32m8.5/8.5 MB\u001b[0m \u001b[31m41.0 MB/s\u001b[0m eta \u001b[36m0:00:00\u001b[0m\n",
            "\u001b[?25hDownloading sklearn_crfsuite-0.5.0-py2.py3-none-any.whl (10 kB)\n",
            "Downloading python_crfsuite-0.9.10-cp310-cp310-manylinux_2_17_x86_64.manylinux2014_x86_64.whl (1.1 MB)\n",
            "\u001b[2K   \u001b[90m━━━━━━━━━━━━━━━━━━━━━━━━━━━━━━━━━━━━━━━━\u001b[0m \u001b[32m1.1/1.1 MB\u001b[0m \u001b[31m39.1 MB/s\u001b[0m eta \u001b[36m0:00:00\u001b[0m\n",
            "\u001b[?25hInstalling collected packages: python-crfsuite, sklearn-crfsuite, pyvi\n",
            "Successfully installed python-crfsuite-0.9.10 pyvi-0.1.1 sklearn-crfsuite-0.5.0\n"
          ]
        }
      ]
    },
    {
      "cell_type": "code",
      "source": [
        "import os\n",
        "import matplotlib.pyplot as plt\n",
        "import numpy as np\n",
        "from sklearn.model_selection import learning_curve\n",
        "from tqdm import tqdm\n",
        "\n",
        "from sklearn.datasets import load_files\n",
        "from pyvi import ViTokenizer\n",
        "\n",
        "from sklearn import svm\n",
        "from sklearn.ensemble import RandomForestClassifier\n",
        "from sklearn.feature_extraction.text import CountVectorizer, TfidfVectorizer\n",
        "from sklearn.feature_extraction.text import TfidfTransformer\n",
        "from sklearn.model_selection import train_test_split, GridSearchCV\n",
        "from sklearn.pipeline import Pipeline\n",
        "from sklearn.metrics import accuracy_score, confusion_matrix, ConfusionMatrixDisplay\n",
        "\n",
        "%matplotlib inline"
      ],
      "metadata": {
        "id": "d3iTQzsWhXl3"
      },
      "execution_count": 4,
      "outputs": []
    },
    {
      "cell_type": "markdown",
      "source": [
        "## **Load dữ liệu từ thư mục đã crawl từ trước**"
      ],
      "metadata": {
        "id": "5HGM43JEhliF"
      }
    },
    {
      "cell_type": "markdown",
      "source": [
        "Cấu trúc thư mục như sau:\n",
        "- `data/news_1135/`\n",
        "    - `Kinh tế/`\n",
        "        - `bài báo 1.txt`\n",
        "        - `bài báo 2.txt`\n",
        "    - `Pháp luật/`\n",
        "        - `bài báo 3.txt`\n",
        "        - `bài báo 4.txt`"
      ],
      "metadata": {
        "id": "40vRsIYmhqm-"
      }
    },
    {
      "cell_type": "code",
      "source": [
        "\n",
        "\n",
        "### bài tập ###\n",
        "# yêu cầu: In ra các nhãn và số văn bản tương ứng trong mỗi nhãn; Tổng số văn bản\n",
        "# gợi ý: tự làm\n",
        "###############\n",
        "# code\n",
        "INPUT = \"news_1135/\"\n",
        "\n",
        "# Đọc dữ liệu và in ra thông tin về các nhãn và số văn bản\n",
        "data_train = load_files(INPUT, encoding='utf-8')\n",
        "print(\"Các nhãn và số văn bản tương ứng:\")\n",
        "for i, category in enumerate(data_train.target_names):\n",
        "    print(f\"{category}: {sum(data_train.target == i)}\")\n",
        "print(f\"\\nTổng số văn bản: {len(data_train.data)}\")\n",
        "\n",
        "###############"
      ],
      "metadata": {
        "id": "wfCguRIvhnem"
      },
      "execution_count": null,
      "outputs": []
    },
    {
      "cell_type": "markdown",
      "source": [
        "## **Tiền xử lý dữ liệu đưa dữ liệu từ dạng text về dạng ma trận**"
      ],
      "metadata": {
        "id": "g85GvplAiuxu"
      }
    },
    {
      "cell_type": "code",
      "source": [
        "### bài tập ###\n",
        "# yêu cầu: Tiền xử lý dữ liệu text về dạng ma trận, sử dụng TF-IDF.\n",
        "# gợi ý: tự làm.\n",
        "###############\n",
        "# code\n",
        "stopwords = open('vietnamese-stopwords.txt', 'r', encoding='utf-8').read().splitlines()\n",
        "module_count_vector = TfidfVectorizer(stop_words=stopwords, tokenizer=ViTokenizer.tokenize, ngram_range=(1,1))\n",
        "data_preprocessed = module_count_vector.fit_transform(data_train.data)\n",
        "###############\n",
        "print(f\"Số lượng stopwords: {len(stopwords)}\")\n",
        "print(stopwords[:10])\n",
        "print(f\"\\nSố lượng từ trong từ điển: {len(module_count_vector.vocabulary_)}\")\n",
        "print(f\"Kích thước dữ liệu sau khi xử lý: {data_preprocessed.shape}\")\n",
        "print(f\"Kích thước nhãn tương ứng: {data_train.target.shape}\")"
      ],
      "metadata": {
        "id": "91Voko5_hnb8"
      },
      "execution_count": null,
      "outputs": []
    },
    {
      "cell_type": "markdown",
      "source": [
        "## **Chia dữ liệu làm 2 phần training và testing**\n",
        "\n",
        "*   Training chiếm 80 % dữ liệu\n",
        "*   Testing chiếm 20 % dữ liệu\n",
        "\n",
        "\n",
        "> Nghĩa là ta sẽ dùng **Holdout** để đánh giá hiệu quả của một mô hình\n"
      ],
      "metadata": {
        "id": "7OHWa9bbjH3D"
      }
    },
    {
      "cell_type": "code",
      "source": [
        "test_size = 0.2\n",
        "# cv = ShuffleSplit(n_splits=10, test_size=0.2, random_state=0)\n",
        "X_train, X_test, y_train, y_test = train_test_split(data_preprocessed, data_train.target, test_size=test_size, random_state=0)\n",
        "\n",
        "print(\"Dữ liệu training = \", X_train.shape, y_train.shape)\n",
        "print(\"Dữ liệu testing = \", X_test.shape, y_test.shape)"
      ],
      "metadata": {
        "id": "610OKKOahnYq"
      },
      "execution_count": null,
      "outputs": []
    },
    {
      "cell_type": "code",
      "source": [
        "### bài tập ###\n",
        "# yêu cầu: Không sử dụng train_test_split, chia dữ liệu thành hai tập Train, Test tương ứng\n",
        "# gợi ý: tự làm\n",
        "###############\n",
        "# code\n",
        "total_samples = data_preprocessed.shape[0]\n",
        "train_size = int(0.8 * total_samples)\n",
        "X_train_manual = data_preprocessed[:train_size]\n",
        "X_test_manual = data_preprocessed[train_size:]\n",
        "y_train_manual = data_train.target[:train_size]\n",
        "y_test_manual = data_train.target[train_size:]\n",
        "\n",
        "print(\"Dữ liệu training (manual split) = \", X_train_manual.shape, y_train_manual.shape)\n",
        "print(\"Dữ liệu testing (manual split) = \", X_test_manual.shape, y_test_manual.shape)\n",
        "\n",
        "###############"
      ],
      "metadata": {
        "id": "S7XKNkVjhnVr"
      },
      "execution_count": null,
      "outputs": []
    },
    {
      "cell_type": "markdown",
      "source": [
        "## **Lựa chọn (tối ưu) tham số**\n",
        "\n",
        "Chỉ dùng **tập train** để thực hiện **lựa chọn tham số**.\n",
        "\n",
        "*   SVM: kernel, C\n",
        "*   Random Forest: criteria, N\n",
        "\n",
        "Ta sẽ dùng chiến lược Cross Validation trong bước này."
      ],
      "metadata": {
        "id": "nV6RRUz5j9Yu"
      }
    },
    {
      "cell_type": "code",
      "source": [
        "def cross_validation(estimator):\n",
        "    _, train_scores, test_scores = learning_curve(estimator, X_train, y_train, cv=5, n_jobs=-1, train_sizes=[1.0, ], scoring=\"accuracy\")\n",
        "    test_scores = test_scores[0]\n",
        "    mean, std = test_scores.mean(), test_scores.std()\n",
        "    return mean, std\n",
        "\n",
        "def plot(title, xlabel, X, Y, error, ylabel = \"Accuracy\"):\n",
        "    plt.xlabel(xlabel)\n",
        "    plt.title(title)\n",
        "    plt.grid()\n",
        "    plt.ylabel(ylabel)\n",
        "\n",
        "    plt.errorbar(X, Y, error, linestyle='None', marker='o')"
      ],
      "metadata": {
        "id": "mDtseGxuhnSs"
      },
      "execution_count": null,
      "outputs": []
    },
    {
      "cell_type": "markdown",
      "source": [
        "## **Lựa chọn tham số mô hình SVM**"
      ],
      "metadata": {
        "id": "xZvSPW4nkWDX"
      }
    },
    {
      "cell_type": "code",
      "source": [
        "Save_figs = \"/content/drive/MyDrive/Code_VinBigData_2024/Model_selection/images/\""
      ],
      "metadata": {
        "id": "7930zI64lAvy"
      },
      "execution_count": null,
      "outputs": []
    },
    {
      "cell_type": "markdown",
      "source": [
        "### Đánh giá ảnh hưởng của các kernel trong SVM"
      ],
      "metadata": {
        "id": "2bibkKiHkaAa"
      }
    },
    {
      "cell_type": "code",
      "source": [
        "title = \"thay đổi kernel, C = 1\"\n",
        "xlabel = \"kernel\"\n",
        "X = []\n",
        "Y = []\n",
        "error = []\n",
        "\n",
        "for kernel in tqdm(['linear', 'poly', 'rbf', 'sigmoid']):\n",
        "    # Với mỗi kernel được chọn,\n",
        "    # thực hiện xây dựng mô hình, huấn luyện và đánh giá theo cross-validation\n",
        "    text_clf = svm.SVC(kernel=kernel, C=1.0)\n",
        "    mean, std = cross_validation(text_clf)\n",
        "    X.append(kernel)\n",
        "    Y.append(mean)\n",
        "    error.append(std)\n",
        "\n",
        "# lưu kết quả ra file ảnh\n",
        "plot(title, xlabel, X, Y, error)\n",
        "plt.savefig(Save_figs+'svm_change_kernel.png', bbox_inches='tight')\n",
        "plt.show()\n"
      ],
      "metadata": {
        "id": "qf3FMAx-hnNu"
      },
      "execution_count": null,
      "outputs": []
    },
    {
      "cell_type": "markdown",
      "source": [
        "### Đánh giá ảnh hưởng của tham số C trong SVM"
      ],
      "metadata": {
        "id": "E9k0WEexku0h"
      }
    },
    {
      "cell_type": "code",
      "source": [
        "### bài tập ###\n",
        "# yêu cầu: Đánh giá ảnh hưởng của tham số C trong SVM, sử dụng kernel 'Linear'\n",
        "#          Vẽ và Lưu biểu đồ kết quả với tên \"svm_change_C.png\"\n",
        "# gợi ý: Xét giá trị C trong khoảng [.1, 1.0, 2.0, 5.0, 10.0]\n",
        "###############\n",
        "# code\n",
        "title = \"Thay đổi C, kernel = 'linear'\"\n",
        "xlabel = \"C\"\n",
        "X = []\n",
        "Y = []\n",
        "error = []\n",
        "\n",
        "for c in tqdm([.1, 1.0, 2.0, 5.0, 10.0]):\n",
        "    text_clf = svm.SVC(kernel='linear', C=c)\n",
        "    mean, std = cross_validation(text_clf)\n",
        "    X.append(str(c))\n",
        "    Y.append(mean)\n",
        "    error.append(std)\n",
        "\n",
        "plot(title, xlabel, X, Y, error)\n",
        "plt.savefig(Save_figs+'svm_change_C.png', bbox_inches='tight')\n",
        "plt.show()\n",
        "###############"
      ],
      "metadata": {
        "id": "Iv9b8pzvhnLJ"
      },
      "execution_count": null,
      "outputs": []
    },
    {
      "cell_type": "markdown",
      "source": [
        "## **Lựa chọn tham số mô hình Random forest**"
      ],
      "metadata": {
        "id": "kjCp46xzkyUr"
      }
    },
    {
      "cell_type": "markdown",
      "source": [
        "### Đánh giá ảnh hưởng của độ đo trong Random Forest"
      ],
      "metadata": {
        "id": "5OJmI2PCmZT1"
      }
    },
    {
      "cell_type": "code",
      "source": [
        "title = \"thay đổi criterion, n_estimators = 50\"\n",
        "xlabel = \"criterion\"\n",
        "X = []\n",
        "Y = []\n",
        "error = []\n",
        "\n",
        "for criterion in tqdm([\"gini\", \"entropy\"]):\n",
        "    # Với mỗi criterion nhận được,\n",
        "    # thực hiện xây dựng mô hình, huấn luyện và đánh giá theo cross-validation\n",
        "    text_clf = RandomForestClassifier(criterion=criterion, n_estimators=50)\n",
        "    mean, std = cross_validation(text_clf)\n",
        "    X.append(str(criterion))\n",
        "    Y.append(mean)\n",
        "    error.append(std)\n",
        "\n",
        "# lưu kết quả ra file ảnh\n",
        "plot(title, xlabel, X, Y, error)\n",
        "plt.savefig(Save_figs+'RF_change_criterion.png', bbox_inches='tight')\n",
        "plt.show()\n"
      ],
      "metadata": {
        "id": "xK7xWesFhnIh"
      },
      "execution_count": null,
      "outputs": []
    },
    {
      "cell_type": "markdown",
      "source": [
        "### Đánh giá ảnh hưởng của số cây trong Random Forest"
      ],
      "metadata": {
        "id": "tFChDsw6meF2"
      }
    },
    {
      "cell_type": "code",
      "source": [
        "### bài tập ###\n",
        "# yêu cầu: Đánh giá ảnh hưởng của số lượng cây trong RF, sử dụng criterion = 'gini'\n",
        "#          Vẽ và Lưu biểu đồ kết quả với tên \"RF_change_N.png\"\n",
        "# gợi ý: Xét giá trị C trong khoảng [10, 50, 100, 300]\n",
        "###############\n",
        "# code\n",
        "# Lựa chọn tham số mô hình Random Forest - Đánh giá ảnh hưởng của số cây\n",
        "title = \"Thay đổi n_estimators, criterion = 'gini'\"\n",
        "xlabel = \"n_estimators\"\n",
        "X = []\n",
        "Y = []\n",
        "error = []\n",
        "\n",
        "for n_estimators in tqdm([10, 50, 100, 300]):\n",
        "    text_clf = RandomForestClassifier(criterion='gini', n_estimators=n_estimators)\n",
        "    mean, std = cross_validation(text_clf)\n",
        "    X.append(str(n_estimators))\n",
        "    Y.append(mean)\n",
        "    error.append(std)\n",
        "\n",
        "plot(title, xlabel, X, Y, error)\n",
        "plt.savefig(Save_figs+'RF_change_N.png', bbox_inches='tight')\n",
        "plt.show()\n",
        "\n",
        "###############"
      ],
      "metadata": {
        "id": "kTgk5zjAhnFn"
      },
      "execution_count": null,
      "outputs": []
    },
    {
      "cell_type": "markdown",
      "source": [
        "## Lựa chọn tham số cho mô hình KNN"
      ],
      "metadata": {
        "id": "1_AcYv1Em9L4"
      }
    },
    {
      "cell_type": "code",
      "source": [
        "from sklearn.neighbors import KNeighborsClassifier\n",
        "\n",
        "title = \"thay đổi K\"\n",
        "xlabel = \"K\"\n",
        "X = []\n",
        "Y = []\n",
        "error = []\n",
        "\n",
        "for k in tqdm([1, 3, 5, 20, 50]):\n",
        "    # Với từng giá trị k nhận được,\n",
        "    # thực hiện xây dựng mô hình, huấn luyện và đánh giá theo cross-validation\n",
        "    text_clf = KNeighborsClassifier(n_neighbors=k)\n",
        "    mean, std = cross_validation(text_clf)\n",
        "    X.append(str(k))\n",
        "    Y.append(mean)\n",
        "    error.append(std)\n",
        "\n",
        "# lưu kết quả ra file ảnh\n",
        "plot(title, xlabel, X, Y, error)\n",
        "plt.savefig(Save_figs+'KNN_change_K.png', bbox_inches='tight')\n",
        "plt.show()\n"
      ],
      "metadata": {
        "id": "PDCuFaSjhnC1"
      },
      "execution_count": null,
      "outputs": []
    },
    {
      "cell_type": "markdown",
      "source": [
        "## **So sánh các mô hình**\n",
        "\n",
        "\n",
        "*   Sau khi chọn được các bộ tham số tốt nhất cho mỗi mô hình, ta huấn luyện lại trên toàn bộ tập Train.\n",
        "*   Dùng các mô hình mới huấn luyện để phán đoán cho các dữ liệu trong tập Test\n",
        "*   Đo đạc Độ chính xác (Accuracy) của chúng và so sánh kết quả."
      ],
      "metadata": {
        "id": "LE23h8xxnRG8"
      }
    },
    {
      "cell_type": "code",
      "source": [
        "svm_ = svm.SVC(kernel='linear', C=1.0)\n",
        "rf = RandomForestClassifier(criterion='gini', n_estimators=300)\n",
        "knn = KNeighborsClassifier(n_neighbors=5)\n",
        "\n",
        "# Huấn luyện các mô hình trên tập dữ liệu train đầy đủ\n",
        "svm_.fit(X_train, y_train)\n",
        "rf.fit(X_train, y_train)\n",
        "knn.fit(X_train, y_train)"
      ],
      "metadata": {
        "id": "6Hx8n3wLhm_m"
      },
      "execution_count": null,
      "outputs": []
    },
    {
      "cell_type": "code",
      "source": [
        "# Kết quả dự đoán trên tập test\n",
        "print(f'SVM: {accuracy_score(y_test, svm_.predict(X_test))}')\n",
        "print(f'RF: {accuracy_score(y_test, rf.predict(X_test))}')\n",
        "print(f'KNN: {accuracy_score(y_test, knn.predict(X_test))}')"
      ],
      "metadata": {
        "id": "wzXsPNh-hmoe"
      },
      "execution_count": null,
      "outputs": []
    },
    {
      "cell_type": "code",
      "source": [
        "Y_pred_svm = svm_.predict(X_test)\n",
        "cm_svm = confusion_matrix(y_test, Y_pred_svm, labels=svm_.classes_)\n",
        "disp_svm = ConfusionMatrixDisplay(confusion_matrix=cm_svm, display_labels=svm_.classes_)\n",
        "disp_svm.plot()\n",
        "plt.show()"
      ],
      "metadata": {
        "id": "6qnao-ycnk0B"
      },
      "execution_count": null,
      "outputs": []
    },
    {
      "cell_type": "code",
      "source": [
        "### bài tập ###\n",
        "# yêu cầu: Vẽ biểu đồ Confusion_matrix của kết quả dự đoán trên tập Test của hai mô hình RF và KNN\n",
        "# gợi ý: tương tự cách làm với SVM\n",
        "###############\n",
        "# code\n",
        "\n",
        "###############"
      ],
      "metadata": {
        "id": "h6V8EomxnpN8"
      },
      "execution_count": null,
      "outputs": []
    },
    {
      "cell_type": "markdown",
      "source": [
        "## **Bài tập**\n",
        "\n",
        "*   Sử dụng dữ liệu đánh giá tín dụng cá nhân\n",
        "*   Sử dụng độ đo đánh giá negative cost\n",
        "\n",
        "*   Lựa chọn tham số cho các mô hình SVM, Random Forest và KNN\n",
        "*   So sánh các mô hình với siêu tham số tốt nhất"
      ],
      "metadata": {
        "id": "35nOJA_mo9fz"
      }
    },
    {
      "cell_type": "markdown",
      "source": [
        "### Đọc dữ liệu"
      ],
      "metadata": {
        "id": "IYc25RKUpsk2"
      }
    },
    {
      "cell_type": "code",
      "source": [
        "data = np.genfromtxt('/content/drive/MyDrive/Code_VinBigData_2024/Model_selection/german.data-numeric')\n",
        "X_data = data[:,:24]\n",
        "Y_data = data[:,-1]\n",
        "print(X_data.shape)\n",
        "print(Y_data.shape)"
      ],
      "metadata": {
        "id": "3W9NN6zTpKvK"
      },
      "execution_count": null,
      "outputs": []
    },
    {
      "cell_type": "markdown",
      "source": [
        "### Chia dữ liệu Train - Test"
      ],
      "metadata": {
        "id": "6Ca0UjEqp9Aa"
      }
    },
    {
      "cell_type": "code",
      "source": [
        "X_train, X_test, Y_train, Y_test = train_test_split(X_data, Y_data, test_size=0.2, random_state=42)\n",
        "print(\"Dữ liệu training = \", X_train.shape, Y_train.shape)\n",
        "print(\"Dữ liệu testing = \", X_test.shape, Y_test.shape)"
      ],
      "metadata": {
        "id": "9RJ_Jczyp0w0"
      },
      "execution_count": null,
      "outputs": []
    },
    {
      "cell_type": "markdown",
      "source": [
        "### Các hàm cần thiết"
      ],
      "metadata": {
        "id": "KkS-CKkDqA9u"
      }
    },
    {
      "cell_type": "code",
      "source": [
        "# Hàm tính neg_cost, dùng để truyền vào scoring của learning_curve\n",
        "def neg_cost(estimator, X, y):\n",
        "    y_true = y\n",
        "    y_pred = estimator.predict(X)\n",
        "    true_pos = ((y_true==y_pred)&(y_true==1.0))*0.0\n",
        "    true_ne = ((y_true==y_pred)&(y_true==2.0))*0.0\n",
        "    false_ne = ((y_true!=y_pred)&(y_true==1.0))*1.0\n",
        "    false_pos = ((y_true!=y_pred)&(y_true==2.0))*5.0\n",
        "    return -sum(true_pos + true_ne + false_pos + false_ne)/len(y_true)\n",
        "\n",
        "def cross_validation(estimator):\n",
        "    _, train_scores, test_scores = learning_curve(estimator, X_train, Y_train, cv=10, n_jobs=-1, train_sizes=[0.8, ], scoring=neg_cost)\n",
        "    test_scores = test_scores[0]\n",
        "    mean, std = test_scores.mean(), test_scores.std()\n",
        "    return mean, std\n",
        "\n",
        "def plot(title, xlabel, X, Y, error, ylabel = \"neg cost\"):\n",
        "    plt.xlabel(xlabel)\n",
        "    plt.title(title)\n",
        "    plt.grid()\n",
        "    plt.ylabel(ylabel)\n",
        "\n",
        "    plt.errorbar(X, Y, error, linestyle='None', marker='o')"
      ],
      "metadata": {
        "id": "VJJj62sPqCwB"
      },
      "execution_count": null,
      "outputs": []
    },
    {
      "cell_type": "markdown",
      "source": [
        "### SVM"
      ],
      "metadata": {
        "id": "G0i-SV3VqObb"
      }
    },
    {
      "cell_type": "code",
      "source": [
        "### bài tập ###\n",
        "# yêu cầu: Đánh giá ảnh hưởng của các kernel trong SVM, chọn C=1\n",
        "#          Vẽ và Lưu biểu đồ kết quả với tên \"prac_svm_change_kernel.png\"\n",
        "# gợi ý: Xét các kernels: ['linear', 'poly', 'rbf', 'sigmoid']\n",
        "###############\n",
        "# code\n",
        "\n",
        "###############"
      ],
      "metadata": {
        "id": "KyziGx9eqDhb"
      },
      "execution_count": null,
      "outputs": []
    },
    {
      "cell_type": "code",
      "source": [
        "### bài tập ###\n",
        "# yêu cầu: Đánh giá ảnh hưởng của tham số C trong SVM, sử dụng kernel = 'linear'\n",
        "#          Vẽ và Lưu biểu đồ kết quả với tên \"prac_svm_change_C.png\"\n",
        "# gợi ý: Xét giá trị C trong khoảng [.1, 1.0, 2.0, 5.0, 10.0]\n",
        "###############\n",
        "# code\n",
        "\n",
        "###############"
      ],
      "metadata": {
        "id": "qp_1mJMyqDeD"
      },
      "execution_count": null,
      "outputs": []
    },
    {
      "cell_type": "markdown",
      "source": [
        "### Random Forest"
      ],
      "metadata": {
        "id": "ZDJHJA7Tri-R"
      }
    },
    {
      "cell_type": "code",
      "source": [
        "### bài tập ###\n",
        "# yêu cầu: Đánh giá ảnh hưởng của độ đo trong Random Forest, chọn số cây = 50\n",
        "#          Vẽ và Lưu biểu đồ kết quả với tên \"prac_RF_change_criterion.png\"\n",
        "# gợi ý: Xét phương pháp [\"gini\", \"entropy\"]\n",
        "###############\n",
        "# code\n",
        "\n",
        "###############"
      ],
      "metadata": {
        "id": "x-E6v5TMqDbU"
      },
      "execution_count": null,
      "outputs": []
    },
    {
      "cell_type": "code",
      "source": [
        "### bài tập ###\n",
        "# yêu cầu: Đánh giá ảnh hưởng của số cây trong Random Forest, sử dụng criterion = 'entropy'\n",
        "#          Vẽ và Lưu biểu đồ kết quả với tên \"prac_RF_change_N.png\"\n",
        "# gợi ý: Xét giá trị Cây trong khoảng [10, 50, 100, 300]\n",
        "###############\n",
        "# code\n",
        "\n",
        "###############"
      ],
      "metadata": {
        "id": "EtuSdhtAqDYf"
      },
      "execution_count": null,
      "outputs": []
    },
    {
      "cell_type": "markdown",
      "source": [
        "### KNN"
      ],
      "metadata": {
        "id": "RLLbTQs9sIKG"
      }
    },
    {
      "cell_type": "code",
      "source": [
        "### bài tập ###\n",
        "# yêu cầu: Đánh giá ảnh hưởng của số lượng láng giềng trong KNN\n",
        "#          Vẽ và Lưu biểu đồ kết quả với tên \"prac_KNN_change_K.png\"\n",
        "# gợi ý: Xét giá trị trong khoảng [1, 3, 5, 20, 50]\n",
        "###############\n",
        "# code\n",
        "\n",
        "###############"
      ],
      "metadata": {
        "id": "Prz_nRCnqWHx"
      },
      "execution_count": null,
      "outputs": []
    },
    {
      "cell_type": "markdown",
      "source": [
        "### So sánh"
      ],
      "metadata": {
        "id": "x2Q77I8rse67"
      }
    },
    {
      "cell_type": "code",
      "source": [
        "### bài tập ###\n",
        "# yêu cầu: So sánh hiệu suất của 3 mô hình trên\n",
        "# gợi ý: Thực hiện 2 bước:\n",
        "#       - Huấn luyện lại mô hình với tập Train đầy đủ\n",
        "#       - Dự đoán tập Test\n",
        "###############\n",
        "# code\n",
        "\n",
        "###Bước 1:\n",
        "# Huấn luyện các mô hình trên tập dữ liệu train đầy đủ\n",
        "\n",
        "###Bước 2:\n",
        "# Kết quả dự đoán trên tập test\n",
        "###############"
      ],
      "metadata": {
        "id": "CuC-m293qV8h"
      },
      "execution_count": null,
      "outputs": []
    },
    {
      "cell_type": "code",
      "source": [
        "# Load dữ liệu từ thư mục đã crawl từ trước\n",
        "INPUT = \"data/data/news_1135/\"\n",
        "\n",
        "# Đọc dữ liệu và in ra thông tin về các nhãn và số văn bản\n",
        "data_train = load_files(INPUT, encoding='utf-8')\n",
        "print(\"Các nhãn và số văn bản tương ứng:\")\n",
        "for i, category in enumerate(data_train.target_names):\n",
        "    print(f\"{category}: {sum(data_train.target == i)}\")\n",
        "print(f\"\\nTổng số văn bản: {len(data_train.data)}\")\n",
        "\n",
        "# Tiền xử lý dữ liệu đưa dữ liệu từ dạng text về dạng ma trận\n",
        "stopwords = open('vietnamese-stopwords.txt', 'r', encoding='utf-8').read().splitlines()\n",
        "module_count_vector = TfidfVectorizer(stop_words=stopwords, tokenizer=ViTokenizer.tokenize, ngram_range=(1,1))\n",
        "data_preprocessed = module_count_vector.fit_transform(data_train.data)\n",
        "\n",
        "print(f\"Số lượng stopwords: {len(stopwords)}\")\n",
        "print(stopwords[:10])\n",
        "print(f\"\\nSố lượng từ trong từ điển: {len(module_count_vector.vocabulary_)}\")\n",
        "print(f\"Kích thước dữ liệu sau khi xử lý: {data_preprocessed.shape}\")\n",
        "print(f\"Kích thước nhãn tương ứng: {data_train.target.shape}\")\n",
        "\n",
        "# Chia dữ liệu làm 2 phần training và testing\n",
        "test_size = 0.2\n",
        "X_train, X_test, y_train, y_test = train_test_split(data_preprocessed, data_train.target, test_size=test_size, random_state=0)\n",
        "\n",
        "print(\"Dữ liệu training = \", X_train.shape, y_train.shape)\n",
        "print(\"Dữ liệu testing = \", X_test.shape, y_test.shape)\n",
        "\n",
        "# Chia dữ liệu thành hai tập Train, Test không sử dụng train_test_split\n",
        "total_samples = data_preprocessed.shape[0]\n",
        "train_size = int(0.8 * total_samples)\n",
        "X_train_manual = data_preprocessed[:train_size]\n",
        "X_test_manual = data_preprocessed[train_size:]\n",
        "y_train_manual = data_train.target[:train_size]\n",
        "y_test_manual = data_train.target[train_size:]\n",
        "\n",
        "print(\"Dữ liệu training (manual split) = \", X_train_manual.shape, y_train_manual.shape)\n",
        "print(\"Dữ liệu testing (manual split) = \", X_test_manual.shape, y_test_manual.shape)\n",
        "\n",
        "# Lựa chọn tham số mô hình SVM - Đánh giá ảnh hưởng của tham số C\n",
        "title = \"Thay đổi C, kernel = 'linear'\"\n",
        "xlabel = \"C\"\n",
        "X = []\n",
        "Y = []\n",
        "error = []\n",
        "\n",
        "for c in tqdm([.1, 1.0, 2.0, 5.0, 10.0]):\n",
        "    text_clf = svm.SVC(kernel='linear', C=c)\n",
        "    mean, std = cross_validation(text_clf)\n",
        "    X.append(str(c))\n",
        "    Y.append(mean)\n",
        "    error.append(std)\n",
        "\n",
        "plot(title, xlabel, X, Y, error)\n",
        "plt.savefig(Save_figs+'svm_change_C.png', bbox_inches='tight')\n",
        "plt.show()\n",
        "\n",
        "# Lựa chọn tham số mô hình Random Forest - Đánh giá ảnh hưởng của số cây\n",
        "title = \"Thay đổi n_estimators, criterion = 'gini'\"\n",
        "xlabel = \"n_estimators\"\n",
        "X = []\n",
        "Y = []\n",
        "error = []\n",
        "\n",
        "for n_estimators in tqdm([10, 50, 100, 300]):\n",
        "    text_clf = RandomForestClassifier(criterion='gini', n_estimators=n_estimators)\n",
        "    mean, std = cross_validation(text_clf)\n",
        "    X.append(str(n_estimators))\n",
        "    Y.append(mean)\n",
        "    error.append(std)\n",
        "\n",
        "plot(title, xlabel, X, Y, error)\n",
        "plt.savefig(Save_figs+'RF_change_N.png', bbox_inches='tight')\n",
        "plt.show()\n",
        "\n",
        "# Vẽ biểu đồ Confusion_matrix của kết quả dự đoán trên tập Test của RF và KNN\n",
        "Y_pred_rf = rf.predict(X_test)\n",
        "cm_rf = confusion_matrix(y_test, Y_pred_rf, labels=rf.classes_)\n",
        "disp_rf = ConfusionMatrixDisplay(confusion_matrix=cm_rf, display_labels=rf.classes_)\n",
        "disp_rf.plot()\n",
        "plt.title(\"Random Forest Confusion Matrix\")\n",
        "plt.show()\n",
        "\n",
        "Y_pred_knn = knn.predict(X_test)\n",
        "cm_knn = confusion_matrix(y_test, Y_pred_knn, labels=knn.classes_)\n",
        "disp_knn = ConfusionMatrixDisplay(confusion_matrix=cm_knn, display_labels=knn.classes_)\n",
        "disp_knn.plot()\n",
        "plt.title(\"KNN Confusion Matrix\")\n",
        "plt.show()\n",
        "\n",
        "# Bài tập với dữ liệu đánh giá tín dụng cá nhân\n",
        "\n",
        "# SVM - Đánh giá ảnh hưởng của các kernel\n",
        "title = \"Thay đổi kernel, C = 1\"\n",
        "xlabel = \"kernel\"\n",
        "X = []\n",
        "Y = []\n",
        "error = []\n",
        "\n",
        "for kernel in tqdm(['linear', 'poly', 'rbf', 'sigmoid']):\n",
        "    text_clf = svm.SVC(kernel=kernel, C=1.0)\n",
        "    mean, std = cross_validation(text_clf)\n",
        "    X.append(kernel)\n",
        "    Y.append(mean)\n",
        "    error.append(std)\n",
        "\n",
        "plot(title, xlabel, X, Y, error)\n",
        "plt.savefig(Save_figs+'prac_svm_change_kernel.png', bbox_inches='tight')\n",
        "plt.show()\n",
        "\n",
        "# SVM - Đánh giá ảnh hưởng của tham số C\n",
        "title = \"Thay đổi C, kernel = 'linear'\"\n",
        "xlabel = \"C\"\n",
        "X = []\n",
        "Y = []\n",
        "error = []\n",
        "\n",
        "for c in tqdm([.1, 1.0, 2.0, 5.0, 10.0]):\n",
        "    text_clf = svm.SVC(kernel='linear', C=c)\n",
        "    mean, std = cross_validation(text_clf)\n",
        "    X.append(str(c))\n",
        "    Y.append(mean)\n",
        "    error.append(std)\n",
        "\n",
        "plot(title, xlabel, X, Y, error)\n",
        "plt.savefig(Save_figs+'prac_svm_change_C.png', bbox_inches='tight')\n",
        "plt.show()\n",
        "\n",
        "# Random Forest - Đánh giá ảnh hưởng của độ đo\n",
        "title = \"Thay đổi criterion, n_estimators = 50\"\n",
        "xlabel = \"criterion\"\n",
        "X = []\n",
        "Y = []\n",
        "error = []\n",
        "\n",
        "for criterion in tqdm([\"gini\", \"entropy\"]):\n",
        "    text_clf = RandomForestClassifier(criterion=criterion, n_estimators=50)\n",
        "    mean, std = cross_validation(text_clf)\n",
        "    X.append(criterion)\n",
        "    Y.append(mean)\n",
        "    error.append(std)\n",
        "\n",
        "plot(title, xlabel, X, Y, error)\n",
        "plt.savefig(Save_figs+'prac_RF_change_criterion.png', bbox_inches='tight')\n",
        "plt.show()\n",
        "\n",
        "# Random Forest - Đánh giá ảnh hưởng của số cây\n",
        "title = \"Thay đổi n_estimators, criterion = 'entropy'\"\n",
        "xlabel = \"n_estimators\"\n",
        "X = []\n",
        "Y = []\n",
        "error = []\n",
        "\n",
        "for n_estimators in tqdm([10, 50, 100, 300]):\n",
        "    text_clf = RandomForestClassifier(criterion='entropy', n_estimators=n_estimators)\n",
        "    mean, std = cross_validation(text_clf)\n",
        "    X.append(str(n_estimators))\n",
        "    Y.append(mean)\n",
        "    error.append(std)\n",
        "\n",
        "plot(title, xlabel, X, Y, error)\n",
        "plt.savefig(Save_figs+'prac_RF_change_N.png', bbox_inches='tight')\n",
        "plt.show()\n",
        "\n",
        "# KNN - Đánh giá ảnh hưởng của số lượng láng giềng\n",
        "title = \"Thay đổi K\"\n",
        "xlabel = \"K\"\n",
        "X = []\n",
        "Y = []\n",
        "error = []\n",
        "\n",
        "for k in tqdm([1, 3, 5, 20, 50]):\n",
        "    text_clf = KNeighborsClassifier(n_neighbors=k)\n",
        "    mean, std = cross_validation(text_clf)\n",
        "    X.append(str(k))\n",
        "    Y.append(mean)\n",
        "    error.append(std)\n",
        "\n",
        "plot(title, xlabel, X, Y, error)\n",
        "plt.savefig(Save_figs+'prac_KNN_change_K.png', bbox_inches='tight')\n",
        "plt.show()\n",
        "\n",
        "# So sánh hiệu suất của 3 mô hình\n",
        "# Bước 1: Huấn luyện lại mô hình với tập Train đầy đủ\n",
        "svm_best = svm.SVC(kernel='linear', C=1.0)\n",
        "rf_best = RandomForestClassifier(criterion='entropy', n_estimators=300)\n",
        "knn_best = KNeighborsClassifier(n_neighbors=5)\n",
        "\n",
        "svm_best.fit(X_train, Y_train)\n",
        "rf_best.fit(X_train, Y_train)\n",
        "knn_best.fit(X_train, Y_train)\n",
        "\n",
        "# Bước 2: Dự đoán tập Test\n",
        "print(\"Kết quả dự đoán trên tập test:\")\n",
        "print(f'SVM: {neg_cost(svm_best, X_test, Y_test)}')\n",
        "print(f'Random Forest: {neg_cost(rf_best, X_test, Y_test)}')\n",
        "print(f'KNN: {neg_cost(knn_best, X_test, Y_test)}')"
      ],
      "metadata": {
        "id": "vQk8TOlev3kE"
      },
      "execution_count": null,
      "outputs": []
    }
  ]
}