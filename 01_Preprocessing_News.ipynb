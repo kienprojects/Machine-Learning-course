{
  "cells": [
    {
      "cell_type": "markdown",
      "metadata": {
        "id": "view-in-github",
        "colab_type": "text"
      },
      "source": [
        "<a href=\"https://colab.research.google.com/github/kienprojects/Machine-Learning-course/blob/main/01_Preprocessing_News.ipynb\" target=\"_parent\"><img src=\"https://colab.research.google.com/assets/colab-badge.svg\" alt=\"Open In Colab\"/></a>"
      ]
    },
    {
      "cell_type": "markdown",
      "metadata": {
        "id": "5Hfbb2nzl9DZ"
      },
      "source": [
        "# Pre-processing News Data"
      ]
    },
    {
      "cell_type": "markdown",
      "metadata": {
        "id": "T1elcGz7huoP"
      },
      "source": [
        "## Bài toán\n",
        "Dữ liệu gồm n văn bản phân vào 10 chủ đề khác nhau. Cần biễu diễn mỗi văn bản dưới dạng một vector số thể hiện cho nội dụng của văn bản đó."
      ]
    },
    {
      "cell_type": "markdown",
      "metadata": {
        "id": "-_akck0KhuoW"
      },
      "source": [
        "## Sử dụng phương pháp mã hóa: TF-IDF\n",
        "Cho tập gồm $n$ văn bản: $D = \\{d_1, d_2, ... d_n\\}$. Tập từ điển tương ứng được xây dựng từ $n$ văn bản này có độ dài là $m$\n",
        "- Xét văn bản $d$ có $|d|$ từ và $t$ là một từ trong $d$. Mã hóa tf-idf của $t$ trong văn bản $d$ được biểu diễn:\n",
        "\\begin{equation}\n",
        "    \\begin{split}\n",
        "        \\text{tf}_{t, d} &= \\frac{f_t}{|d|} \\\\\n",
        "        \\text{idf}_{t, d} &= \\log\\frac{n}{n_t}, \\ \\ \\ \\ n_t = |\\{d\\in D: t\\in d\\}| \\\\\n",
        "        \\text{tf-idf}_{t d} &= \\text{tf}_{t, d} \\times \\text{idf}_{t, d}\n",
        "    \\end{split}\n",
        "\\end{equation}\n",
        "\n",
        "- Khi đó văn bản $d$ được mã hóa là một vector $m$ chiều. Các từ xuất hiện trong d sẽ được thay bằng giá trị tf-idf tương ứng. Các từ không xuất hiện trong $d$ thì thay là 0"
      ]
    },
    {
      "cell_type": "markdown",
      "source": [
        "# Các bước làm"
      ],
      "metadata": {
        "id": "rTNm4rbJ2Hdm"
      }
    },
    {
      "cell_type": "markdown",
      "source": [
        "## Chuẩn bị các thư viện cần thiết"
      ],
      "metadata": {
        "id": "dQ7OuafR2lm8"
      }
    },
    {
      "cell_type": "code",
      "source": [
        "!pip install pyvi"
      ],
      "metadata": {
        "colab": {
          "base_uri": "https://localhost:8080/"
        },
        "id": "hJEF52A6nzBM",
        "outputId": "47c39f00-4247-48d3-87a1-7e2a187b590b"
      },
      "execution_count": 1,
      "outputs": [
        {
          "output_type": "stream",
          "name": "stdout",
          "text": [
            "Collecting pyvi\n",
            "  Downloading pyvi-0.1.1-py2.py3-none-any.whl.metadata (2.5 kB)\n",
            "Requirement already satisfied: scikit-learn in /usr/local/lib/python3.10/dist-packages (from pyvi) (1.3.2)\n",
            "Collecting sklearn-crfsuite (from pyvi)\n",
            "  Downloading sklearn_crfsuite-0.5.0-py2.py3-none-any.whl.metadata (4.9 kB)\n",
            "Requirement already satisfied: numpy<2.0,>=1.17.3 in /usr/local/lib/python3.10/dist-packages (from scikit-learn->pyvi) (1.26.4)\n",
            "Requirement already satisfied: scipy>=1.5.0 in /usr/local/lib/python3.10/dist-packages (from scikit-learn->pyvi) (1.13.1)\n",
            "Requirement already satisfied: joblib>=1.1.1 in /usr/local/lib/python3.10/dist-packages (from scikit-learn->pyvi) (1.4.2)\n",
            "Requirement already satisfied: threadpoolctl>=2.0.0 in /usr/local/lib/python3.10/dist-packages (from scikit-learn->pyvi) (3.5.0)\n",
            "Collecting python-crfsuite>=0.9.7 (from sklearn-crfsuite->pyvi)\n",
            "  Downloading python_crfsuite-0.9.10-cp310-cp310-manylinux_2_17_x86_64.manylinux2014_x86_64.whl.metadata (4.2 kB)\n",
            "Requirement already satisfied: tabulate>=0.4.2 in /usr/local/lib/python3.10/dist-packages (from sklearn-crfsuite->pyvi) (0.9.0)\n",
            "Requirement already satisfied: tqdm>=2.0 in /usr/local/lib/python3.10/dist-packages (from sklearn-crfsuite->pyvi) (4.66.5)\n",
            "Downloading pyvi-0.1.1-py2.py3-none-any.whl (8.5 MB)\n",
            "\u001b[2K   \u001b[90m━━━━━━━━━━━━━━━━━━━━━━━━━━━━━━━━━━━━━━━━\u001b[0m \u001b[32m8.5/8.5 MB\u001b[0m \u001b[31m30.6 MB/s\u001b[0m eta \u001b[36m0:00:00\u001b[0m\n",
            "\u001b[?25hDownloading sklearn_crfsuite-0.5.0-py2.py3-none-any.whl (10 kB)\n",
            "Downloading python_crfsuite-0.9.10-cp310-cp310-manylinux_2_17_x86_64.manylinux2014_x86_64.whl (1.1 MB)\n",
            "\u001b[2K   \u001b[90m━━━━━━━━━━━━━━━━━━━━━━━━━━━━━━━━━━━━━━━━\u001b[0m \u001b[32m1.1/1.1 MB\u001b[0m \u001b[31m21.4 MB/s\u001b[0m eta \u001b[36m0:00:00\u001b[0m\n",
            "\u001b[?25hInstalling collected packages: python-crfsuite, sklearn-crfsuite, pyvi\n",
            "Successfully installed python-crfsuite-0.9.10 pyvi-0.1.1 sklearn-crfsuite-0.5.0\n"
          ]
        }
      ]
    },
    {
      "cell_type": "code",
      "execution_count": 2,
      "metadata": {
        "id": "4eQuwrwZhuoY"
      },
      "outputs": [],
      "source": [
        "import os\n",
        "import matplotlib.pyplot as plt\n",
        "import numpy as np\n",
        "\n",
        "from sklearn.datasets import load_files\n",
        "from pyvi import ViTokenizer\n",
        "from sklearn.feature_extraction.text import CountVectorizer\n",
        "from sklearn.feature_extraction.text import TfidfTransformer\n",
        "from sklearn.pipeline import Pipeline\n",
        "\n",
        "%matplotlib inline"
      ]
    },
    {
      "cell_type": "code",
      "source": [
        "# from google.colab import drive\n",
        "# drive.mount('/content/drive')\n",
        "%cd /content/drive/MyDrive/VINBIGDATA/MachineLearning/00_Assignment/01_Preprocessing/02_News_VNExpress"
      ],
      "metadata": {
        "colab": {
          "base_uri": "https://localhost:8080/"
        },
        "id": "AnA2o9XkoJWV",
        "outputId": "8624f1b5-54e5-4c84-f199-c0efa09b7c07"
      },
      "execution_count": 4,
      "outputs": [
        {
          "output_type": "stream",
          "name": "stdout",
          "text": [
            "/content/drive/.shortcut-targets-by-id/1TvCG3X3dcbtWR5iQlJl5HnUNGb5lsmIA/00_Assignment/01_Preprocessing/02_News_VNExpress\n"
          ]
        }
      ]
    },
    {
      "cell_type": "markdown",
      "metadata": {
        "id": "rqNL4mwDhuoa"
      },
      "source": [
        "## Load dữ liệu từ thư mục\n",
        "\n",
        "Cấu trúc thư mục như sau\n",
        "\n",
        "- data/news_vnexpress/\n",
        "\n",
        "    - Kinh tế:\n",
        "        - bài báo 1.txt\n",
        "        - bài báo 2.txt\n",
        "    - Pháp luật\n",
        "        - bài báo 3.txt\n",
        "        - bài báo 4.txt"
      ]
    },
    {
      "cell_type": "code",
      "execution_count": 6,
      "metadata": {
        "id": "tty49E_ohuoa"
      },
      "outputs": [],
      "source": [
        "#Có thể chỉnh lại đường dẫn thư mục cho phù hợp\n",
        "INPUT = 'news_vnexpress'\n",
        "os.makedirs(\"/images\",exist_ok=True)  # thư mục lưu các các hình ảnh trong quá trình huấn luyện và đánh gía"
      ]
    },
    {
      "cell_type": "code",
      "execution_count": 7,
      "metadata": {
        "id": "Ru3Ct7Zphuob",
        "outputId": "d5632a52-5dbf-4c23-cd87-657b9cd63d84",
        "colab": {
          "base_uri": "https://localhost:8080/"
        }
      },
      "outputs": [
        {
          "output_type": "stream",
          "name": "stdout",
          "text": [
            "Các nhãn và số văn bản tương ứng trong dữ liệu\n",
            "----------------------------------------------\n",
            "doi-song: 120\n",
            "phap-luat: 59\n",
            "thoi-su: 59\n",
            "the-thao: 135\n",
            "giao-duc: 105\n",
            "du-lich: 54\n",
            "-------------------------\n",
            "Tổng số văn bản: 532\n"
          ]
        }
      ],
      "source": [
        "# statistics\n",
        "print('Các nhãn và số văn bản tương ứng trong dữ liệu')\n",
        "print('----------------------------------------------')\n",
        "n = 0\n",
        "for label in os.listdir(INPUT):\n",
        "    print(f'{label}: {len(os.listdir(os.path.join(INPUT, label)))}')\n",
        "    n += len(os.listdir(os.path.join(INPUT, label)))\n",
        "\n",
        "print('-------------------------')\n",
        "print(f\"Tổng số văn bản: {n}\")"
      ]
    },
    {
      "cell_type": "code",
      "execution_count": 8,
      "metadata": {
        "id": "j3tycWTfhuoc",
        "outputId": "776c6e6a-0862-4de7-ca6b-8c6bd75f69ab",
        "colab": {
          "base_uri": "https://localhost:8080/"
        }
      },
      "outputs": [
        {
          "output_type": "stream",
          "name": "stdout",
          "text": [
            "mapping:\n",
            "doi-song - 0\n",
            "du-lich - 1\n",
            "giao-duc - 2\n",
            "phap-luat - 3\n",
            "the-thao - 4\n",
            "thoi-su - 5\n",
            "--------------------------\n",
            "['news_vnexpress/the-thao/00076.txt']\n",
            "[4]\n",
            "['\"Anh bảo ‘tưởng nhớ Tiger ư?’. Anh ấy bị tai nạn nghiêm trọng. Tôi xem vài bản tin và thấy họ nói cứ như anh ấy chết rồi. Nhưng Tiger chưa mất mà. Chúng ta rất may khi anh ấy còn sống. Chúng ta nên ca ngợi những công trạng vô giá mà anh ấy mang lại cho PGA Tour và cả golf\", McIlroy đáp khi một phóng viên gợi ý tưởng nhớ Woods.Năm 2017, McIlroy có dịp ăn trưa cùng Woods, ngay sau lần golfer Mỹ lần thứ tư phẫu thuật đốt sống. Qua lần đó, golfer Bắc Ireland nói chỉ những người thân cận mới hiểu được nỗi khổ sở của Woods trong hành trình bình phục.Sau vụ tai nạn nghiêm trọng khiến Woods chịu đa chấn thương hôm 23/2, đã có một số ý kiến rằng golfer cựu số một thế giới vẫn có thể trở lại, như màn tái xuất ấn tượng khi thắng major Masters 2019. Tuy nhiên, McIlroy không tinThể thao thế giới đánh giá Woods thắng major Masters 2019 là cuộc trở lại vĩ đại. McIlroy cũng nghĩ thế. Nhưng lần này, anh nghĩ điều kì diệu ấy khó xảy ra. McIlroy chỉ mong Woods sớm trở lại đời sống thường nhật.\"Tôi không phủ nhận minh chứng từ Ben Hogan hồi xưa, nhưng giờ thì chuyện thi đấu golf đỉnh cao trở lại là rất xa vời với Tiger. Anh ấy không phải siêu nhân\", McIlroy nói. Hogan sinh năm 1912, bị thương nặng trong vụ đâm xe năm 1949, thắng sáu major khi tái đấu. Ông mất năm 1997.Nhưng Bryson DeChambeau tin điều ngược lại. \"Qua hiểu biết riêng, tôi chắc chắn Tiger sẽ bình phục và phấn đấu hết sức để trở lại. Anh ấy là con người kỳ diệu nên mới làm được những chuyện phi thường. Ben Hogan từng như thế. Hãy cho Tiger thêm thời gian\", nhà vô địch major US Open 2020 nói.Dustin Johnson đang đánh tập trên sân Concession thì nghe tin Woods gặp nạn. Đương kim số một thế giới không bàn về cuộc sống hay sự nghiệp sắp tới của Woods. Nhưng Johnson nhấn mạnh: \"Ngay cả khi Woods không còn khả năng cầm gậy, tầm ảnh hưởng của anh vẫn tiếp tục sâu rộng. Tiger là phần lớn cho danh tiếng của PGA Tour ngày nay. Nếu Tiger không còn thi đấu, chắc chắn golf sẽ nhớ anh. Riêng tôi đến lúc ấy vẫn cảm thấy Tiger cận kề\".Golfer số hai thế giới Jon Rahm thì mong điều đơn giản từ Woods. Anh nói: \"Hy vọng Tiger lành lặn thôi. Phần tôi không nhất thiết gặp anh ấy trên sân đấu. Dù thực tình thích thế, tôi chỉ hy vọng Tiger sớm trở lại đời sống thường nhật. Anh ấy đã cống hiến cho golf vô vàn thứ. Và giờ đây, mỗi ngày ra sân, chúng tôi đều nhớ về Tiger Woods\".Woods được mổ cấp cứu và thoát chết trong vụ tự đâm xe gần Los Angeles hôm 23/2. Các bác sĩ đã nẹp xương ống chân, cố định cổ chân và bàn chân bằng đinh vít. Một Tiến sĩ y khoa Mỹ nhận định cơ hội Woods tái đấu golf đỉnh cao ở mức thấp vì chân anh khó lành lặn như xưa vì vấn đề tuổi tác – 45 tuổi và ảnh hưởng sức khoẻ từ 10 lần phẫu thuật trong sự nghiệp 24 năm.Hôm qua, The Sun cập nhật tình hình sức khoẻ của Woods, trong đó có chi tiết anh không muốn thương tích hiện tại kết thúc sự nghiệp, sẽ lấy thành quả quá khứ làm niềm tin và quyết trở lại đấu golf khi còn khả năng.Tin Woods gặp nạn khiến WGC-Workday Championship từ 25 đến 28/2 trầm lắng hẳn. Mọi đấu thủ đều mong Woods chóng khoẻ. Golf Channel nhận định không khí cuộc họp báo trước giải hôm 24/2 có phần giống tang lễ. Golfer Justin Thomas, thân tình với gia đình Woods, đã rướm nước mắt vì lo cho chủ nhân 15 major và kỷ lục gia vô địch PGA Tour.Quốc Huy tổng hợp\\n']\n",
            "\n",
            "Tổng số  văn bản: 532\n"
          ]
        }
      ],
      "source": [
        "# load data\n",
        "data_train = load_files(container_path=INPUT, encoding=\"utf-8\")\n",
        "print('mapping:')\n",
        "for i in range(len(data_train.target_names)):\n",
        "    print(f'{data_train.target_names[i]} - {i}')\n",
        "\n",
        "print('--------------------------')\n",
        "print(data_train.filenames[0:1])\n",
        "# print(data_train.data[0:1])j\n",
        "print(data_train.target[0:1])\n",
        "print(data_train.data[0:1])\n",
        "\n",
        "print(\"\\nTổng số  văn bản: {}\" .format( len(data_train.filenames)))"
      ]
    },
    {
      "cell_type": "markdown",
      "metadata": {
        "id": "HU06Y_BKhuoe"
      },
      "source": [
        "## Chuyển dữ liệu dạng text về ma trận (n x m) bằng TF-IDF"
      ]
    },
    {
      "cell_type": "markdown",
      "metadata": {
        "id": "I6vG0C2ima31"
      },
      "source": [
        "* Bạn cần viết đoạn mã tương ứng trong cell bên dưới. Theo các bước được gợi ý"
      ]
    },
    {
      "cell_type": "code",
      "source": [
        "# load dữ liệu các stopwords\n",
        "\n",
        "def load_stopwords(path):\n",
        "    f = open(path, \"r\", encoding=\"utf-8\")\n",
        "    stopwords = f.readlines()\n",
        "    stopwords = [x.strip() for x in stopwords]\n",
        "    return stopwords\n",
        "\n",
        "stopwords = load_stopwords(\"vietnamese-stopwords.txt\")"
      ],
      "metadata": {
        "id": "RCwpf2SQlq7H"
      },
      "execution_count": 10,
      "outputs": []
    },
    {
      "cell_type": "code",
      "source": [
        "\n",
        "# Chuyển hoá dữ liệu text về dạng vector TF\n",
        "#     - loại bỏ từ dừng\n",
        "#     - sinh từ điển\n",
        "from sklearn.feature_extraction.text import TfidfVectorizer\n",
        "def transform_data(data):\n",
        "    removed_stopwords = []\n",
        "    for text in data:\n",
        "        removed_stopwords.append(ViTokenizer.tokenize(text))\n",
        "\n",
        "    tfidf_vectorizer = TfidfVectorizer(stop_words=stopwords)\n",
        "    tfidf_vectorizer.fit(removed_stopwords)\n",
        "    return tfidf_vectorizer\n",
        "\n",
        "tfidf_vectorizer = transform_data(data_train.data)\n"
      ],
      "metadata": {
        "id": "GSUHfhAnlzpn"
      },
      "execution_count": 15,
      "outputs": []
    },
    {
      "cell_type": "code",
      "execution_count": 16,
      "metadata": {
        "id": "Ns9j8Hgrhuof",
        "outputId": "720eaebf-6042-4457-ef6b-6a5a066dcc3e",
        "colab": {
          "base_uri": "https://localhost:8080/"
        }
      },
      "outputs": [
        {
          "output_type": "stream",
          "name": "stdout",
          "text": [
            "\n",
            "Số lượng từ trong từ điển: 14709\n",
            "Kích thước dữ liệu sau khi xử lý: (532, 14709)\n",
            "Kích thước nhãn tương ứng: (532,)\n"
          ]
        }
      ],
      "source": [
        "\n",
        "\n",
        "# Hàm thực hiện chuyển đổi dữ liệu text thành dữ liệu số dạng ma trận\n",
        "# Input: Dữ liệu 2 chiều dạng numpy.array, mảng nhãn id dạng numpy.array\n",
        "\n",
        "data_preprocessed = tfidf_vectorizer.transform(data_train.data)\n",
        "\n",
        "X = data_preprocessed # thuoc tinh\n",
        "Y = data_train.target #nhan\n",
        "\n",
        "print(f\"\\nSố lượng từ trong từ điển: {len(module_count_vector.vocabulary_)}\")\n",
        "print(f\"Kích thước dữ liệu sau khi xử lý: {X.shape}\")\n",
        "print(f\"Kích thước nhãn tương ứng: {Y.shape}\")"
      ]
    },
    {
      "cell_type": "code",
      "execution_count": 17,
      "metadata": {
        "id": "CzIuAyLphuoi",
        "outputId": "4ee45452-19af-4354-d55d-ec15df6cb525",
        "colab": {
          "base_uri": "https://localhost:8080/"
        }
      },
      "outputs": [
        {
          "output_type": "stream",
          "name": "stdout",
          "text": [
            "[[0. 0. 0. ... 0. 0. 0.]]\n",
            "2\n"
          ]
        }
      ],
      "source": [
        "print(X[100].toarray())\n",
        "print(Y[100])"
      ]
    },
    {
      "cell_type": "code",
      "execution_count": 18,
      "metadata": {
        "id": "5FjwPJlfhuoj",
        "outputId": "f1485f0f-c0f6-4a10-8aa6-a4a2f437d6fd",
        "colab": {
          "base_uri": "https://localhost:8080/"
        }
      },
      "outputs": [
        {
          "output_type": "stream",
          "name": "stdout",
          "text": [
            "  (0, 14525)\t0.05060194794708251\n",
            "  (0, 13935)\t0.0950498607656479\n",
            "  (0, 13880)\t0.05164126818626985\n",
            "  (0, 13558)\t0.14625584604740072\n",
            "  (0, 12957)\t0.0820842008338501\n",
            "  (0, 12943)\t0.10804539899648732\n",
            "  (0, 12819)\t0.07703023151731735\n",
            "  (0, 12643)\t0.4925052050031006\n",
            "  (0, 12370)\t0.046769267386527535\n",
            "  (0, 12270)\t0.049642657658738765\n",
            "  (0, 12253)\t0.05402269949824366\n",
            "  (0, 12246)\t0.1540604630346347\n",
            "  (0, 11696)\t0.11750578838973479\n",
            "  (0, 11150)\t0.046769267386527535\n",
            "  (0, 10755)\t0.43646371381789817\n",
            "  (0, 10727)\t0.06083516021777726\n",
            "  (0, 10330)\t0.03236302243322569\n",
            "  (0, 10261)\t0.05875289419486739\n",
            "  (0, 9899)\t0.037947481256980546\n",
            "  (0, 9179)\t0.04918934872024151\n",
            "  (0, 9021)\t0.05219534260502073\n",
            "  (0, 7573)\t0.11393839253511057\n",
            "  (0, 7543)\t0.06480456560833703\n",
            "  (0, 7439)\t0.03888511277006741\n",
            "  (0, 7280)\t0.07703023151731735\n",
            "  :\t:\n",
            "  (0, 4836)\t0.052775197016465304\n",
            "  (0, 4727)\t0.12960913121667406\n",
            "  (0, 4654)\t0.10939325395054303\n",
            "  (0, 4430)\t0.019795838667142202\n",
            "  (0, 4365)\t0.06083516021777726\n",
            "  (0, 4321)\t0.062023165584088026\n",
            "  (0, 4011)\t0.08442789888980509\n",
            "  (0, 3645)\t0.17625868258460217\n",
            "  (0, 3429)\t0.05975059629180427\n",
            "  (0, 3121)\t0.04832937865479874\n",
            "  (0, 2950)\t0.3066646720742864\n",
            "  (0, 2775)\t0.08711104998452836\n",
            "  (0, 2722)\t0.033831143453534655\n",
            "  (0, 2634)\t0.2592182624333481\n",
            "  (0, 2245)\t0.07066298319684457\n",
            "  (0, 1405)\t0.0820842008338501\n",
            "  (0, 992)\t0.11393839253511057\n",
            "  (0, 776)\t0.05540908499928407\n",
            "  (0, 569)\t0.10555039403293061\n",
            "  (0, 482)\t0.0820842008338501\n",
            "  (0, 380)\t0.0820842008338501\n",
            "  (0, 278)\t0.046769267386527535\n",
            "  (0, 161)\t0.0820842008338501\n",
            "  (0, 157)\t0.0820842008338501\n",
            "  (0, 47)\t0.026781769943128142\n"
          ]
        }
      ],
      "source": [
        "print(X[100]) #Sau khi xử lí, dữ liệu được lưu dưới dạng ma trận thưa như sau:"
      ]
    }
  ],
  "metadata": {
    "colab": {
      "provenance": [],
      "include_colab_link": true
    },
    "kernelspec": {
      "display_name": "Python 3",
      "language": "python",
      "name": "python3"
    },
    "language_info": {
      "codemirror_mode": {
        "name": "ipython",
        "version": 3
      },
      "file_extension": ".py",
      "mimetype": "text/x-python",
      "name": "python",
      "nbconvert_exporter": "python",
      "pygments_lexer": "ipython3",
      "version": "3.8.10"
    }
  },
  "nbformat": 4,
  "nbformat_minor": 0
}